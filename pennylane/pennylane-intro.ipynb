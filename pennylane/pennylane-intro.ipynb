{
 "cells": [
  {
   "cell_type": "markdown",
   "metadata": {},
   "source": [
    "# Simulating quantum chemistry with `pennylane-qchem`\n",
    "\n",
    "created by G. K. Sunnardianto [gagu001(at)brin.go.id]() and M. Y. Hanna [muha207(at)brin.go.id]()\n"
   ]
  },
  {
   "cell_type": "markdown",
   "metadata": {},
   "source": [
    "---"
   ]
  },
  {
   "cell_type": "markdown",
   "metadata": {},
   "source": [
    "## Before we start"
   ]
  },
  {
   "cell_type": "raw",
   "metadata": {
    "colab": {
     "base_uri": "https://localhost:8080/"
    },
    "id": "FXKTEgSBN1lO",
    "outputId": "975f1f58-97ab-41cd-91d7-43e7bdda0fa2"
   },
   "source": [
    "!pip install pennylane-qchem"
   ]
  },
  {
   "cell_type": "raw",
   "metadata": {},
   "source": [
    "import pennylane as qml\n",
    "\n",
    "print(\"PennyLane version:\", qml.__version__)"
   ]
  },
  {
   "cell_type": "markdown",
   "metadata": {},
   "source": [
    "## Simulating H2 molecule"
   ]
  },
  {
   "cell_type": "markdown",
   "metadata": {},
   "source": [
    "This Python code uses the PennyLane library to perform a quantum computation. The goal is to find the ground state energy of a hydrogen molecule (H2) using the Variational Quantum Eigensolver (VQE) algorithm."
   ]
  },
  {
   "cell_type": "markdown",
   "metadata": {},
   "source": [
    "#### Construct the molecule"
   ]
  },
  {
   "cell_type": "code",
   "execution_count": null,
   "metadata": {
    "id": "90fl91lSOHK_"
   },
   "outputs": [],
   "source": [
    "# This alias allows you to refer to the PennyLane module using the shorter name qml\n",
    "import pennylane as qml\n",
    "# qchem submodule provides tools for quantum chemistry simulations\n",
    "from pennylane import qchem\n",
    "# numerical computing and plotting library\n",
    "from pennylane import numpy as np\n",
    "import matplotlib.pyplot as plt\n",
    "plt.style.use('../imag/SciencePlots-APS.mplstyle')\n",
    "\n",
    "# define atomic symbols\n",
    "symbols = [\"H\", \"H\"]\n",
    "# define coordinates\n",
    "coordinates = np.array([0.0, 0.0, -0.6614, 0.0, 0.0, 0.6614])"
   ]
  },
  {
   "cell_type": "markdown",
   "metadata": {},
   "source": [
    "#### Compute required qubits"
   ]
  },
  {
   "cell_type": "code",
   "execution_count": null,
   "metadata": {
    "colab": {
     "base_uri": "https://localhost:8080/"
    },
    "id": "t8V_8FuWOMSS",
    "outputId": "b3f90f7f-e80f-469c-a69d-026c2db7b151"
   },
   "outputs": [],
   "source": [
    "# compute the molecular Hamiltonian\n",
    "H, qubits = qml.qchem.molecular_hamiltonian(symbols, coordinates)\n",
    "print(\"Number of qubits = \", qubits)\n",
    "#print(\"The Hamiltonian is \", H)"
   ]
  },
  {
   "cell_type": "markdown",
   "metadata": {},
   "source": [
    "Defining the device by using a qubit simulator Here we used `default.qubit`; we can also use other devices such as `lightning.qubit`. Please visit [this link](https://pennylane.ai/plugins/) to see more about the pennylane device.\n",
    "\n",
    "![pennylane-device](../imag/pennylane-device.png)"
   ]
  },
  {
   "cell_type": "markdown",
   "metadata": {},
   "source": [
    "#### Generate vector via the Hartree-Fock state"
   ]
  },
  {
   "cell_type": "markdown",
   "metadata": {},
   "source": [
    "\n",
    "We generate the vector representing the Hartree-Fock state as an ansatz using the `hf_state` function. An ansatz is an educated assumption about the value or form of an unknown function and plays a crucial role in deriving the real solution of an equation. "
   ]
  },
  {
   "cell_type": "code",
   "execution_count": null,
   "metadata": {
    "colab": {
     "base_uri": "https://localhost:8080/"
    },
    "id": "towC7CvsOYBX",
    "outputId": "7a1ce2a7-bf60-4876-a4fa-0ecf653a5baf"
   },
   "outputs": [],
   "source": [
    "# Defining the device by using qubit simulator\n",
    "dev = qml.device(\"default.qubit\", wires=qubits)\n",
    "\n",
    "# Number of electrons\n",
    "electrons = 2\n",
    "\n",
    "# We use the `hf_state` function to generate the Hartree-Fock state\n",
    "hf = qml.qchem.hf_state(electrons, qubits)\n",
    "\n",
    "# Print the Hartree-Fock state\n",
    "print(hf)"
   ]
  },
  {
   "cell_type": "markdown",
   "metadata": {},
   "source": [
    "The `hf_state` is used to initialize the qubit register. Then, we just act with the `DoubleExcitation` operation on the four qubits.\n",
    "\n",
    "![jordan-wigner](../imag/jordan-wigner.png)"
   ]
  },
  {
   "cell_type": "code",
   "execution_count": null,
   "metadata": {
    "id": "sF4x9-UmOe6S"
   },
   "outputs": [],
   "source": [
    "def circuit(param, wires):\n",
    "    # Initialize the circuit to the Hartree-Fock state\n",
    "    qml.BasisState(hf, wires=wires)\n",
    "    \n",
    "    # Apply a double excitation operation to the first four qubits\n",
    "    qml.DoubleExcitation(param, wires=[0, 1, 2, 3])"
   ]
  },
  {
   "cell_type": "markdown",
   "metadata": {},
   "source": [
    "Define the cost function to compute the expectation\n",
    "value of the molecular Hamiltonian in the trial state prepared by the\n",
    "circuit. The decorator syntax allows us to run the cost function as an\n",
    "executable QNode with the gate parameter $\\theta$"
   ]
  },
  {
   "cell_type": "code",
   "execution_count": null,
   "metadata": {
    "id": "70cmDARlOjjm"
   },
   "outputs": [],
   "source": [
    "# The decorator syntax, the decorator specifies the quantum device (dev) on which the quantum computation will be executed.\n",
    "@qml.qnode(dev)\n",
    "def cost_fn(param):  # Define the cost function\n",
    "    # Apply the quantum circuit with the given parameters to the specified number of qubits\n",
    "    circuit(param, wires=range(qubits))\n",
    "    # Return the expectation value of the Hamiltonian (H)\n",
    "    return qml.expval(H)"
   ]
  },
  {
   "cell_type": "markdown",
   "metadata": {},
   "source": [
    "Now we proceed to minimize the cost function to find the ground state of\n",
    "the $\\mathrm{H}_2$ molecule. He we used classical optimizer: Gradient Descent Optimizer\n",
    "We initialize the circuit parameter $\\theta$ to zero, meaning that we\n",
    "start from the Hartree-Fock state.\n",
    "\n"
   ]
  },
  {
   "cell_type": "code",
   "execution_count": null,
   "metadata": {
    "id": "SRFTeWqNOpcQ"
   },
   "outputs": [],
   "source": [
    "# Instantiate the classical optimizer: Gradient Descent Optimizer with a step size of 0.4\n",
    "opt = qml.GradientDescentOptimizer(stepsize=0.4)\n",
    "\n",
    "# Initialize the parameter theta for performing gradient-based optimization, set to 0.0 and marked as requiring gradient computations\n",
    "theta = np.array(0.0, requires_grad=True)"
   ]
  },
  {
   "cell_type": "markdown",
   "metadata": {},
   "source": [
    "We carry out the optimization over a maximum of 100 steps aiming to\n",
    "reach a convergence tolerance of $10^{-6}$ for the value of the cost\n",
    "function."
   ]
  },
  {
   "cell_type": "code",
   "execution_count": null,
   "metadata": {
    "colab": {
     "base_uri": "https://localhost:8080/"
    },
    "id": "vj0gqOPOOu0d",
    "outputId": "4582629b-464e-4af7-b94f-224ff92c105a"
   },
   "outputs": [],
   "source": [
    "# Instantiate the classical optimizer\n",
    "opt = qml.GradientDescentOptimizer(stepsize=0.4)\n",
    "\n",
    "# Initialize the list to store the values of the cost function\n",
    "energy = [cost_fn(theta)]\n",
    "\n",
    "# Initialize the list to store the values of the circuit parameter\n",
    "angle = [theta]\n",
    "\n",
    "# Set the maximum number of optimization iterations\n",
    "max_iterations = 100\n",
    "\n",
    "# Set the convergence tolerance\n",
    "conv_tol = 1e-06\n",
    "\n",
    "# Start the optimization loop\n",
    "for n in range(max_iterations):\n",
    "    # Update the parameter theta and get the previous energy value\n",
    "    theta, prev_energy = opt.step_and_cost(cost_fn, theta)\n",
    "\n",
    "    # Append the updated cost function value to the energy list\n",
    "    energy.append(cost_fn(theta))\n",
    "\n",
    "    # Append the updated parameter value to the angle list\n",
    "    angle.append(theta)\n",
    "\n",
    "    # Calculate the absolute difference between the current energy value and the previous energy value\n",
    "    conv = np.abs(energy[-1] - prev_energy)\n",
    "\n",
    "    # Print the optimization progress every two steps\n",
    "    if n % 2 == 0:\n",
    "        print(f\"Step = {n},  Energy = {energy[-1]:.8f} Ha\")\n",
    "\n",
    "    # If the convergence criterion is met, break the loop\n",
    "    if conv <= conv_tol:\n",
    "        break\n",
    "\n",
    "# Print the final value of the ground-state energy\n",
    "print(\"\\n\" f\"Final value of the ground-state energy = {energy[-1]:.8f} Ha\")\n",
    "\n",
    "# Print the optimal value of the circuit parameter\n",
    "print(\"\\n\" f\"Optimal value of the circuit parameter = {angle[-1]:.4f}\")"
   ]
  },
  {
   "cell_type": "markdown",
   "metadata": {},
   "source": [
    "Let\\'s plot the values of the ground state energy of the molecule"
   ]
  },
  {
   "cell_type": "code",
   "execution_count": null,
   "metadata": {
    "colab": {
     "base_uri": "https://localhost:8080/",
     "height": 394
    },
    "id": "AdTRGdgYP4zl",
    "outputId": "cd5e3f7c-a012-4011-aedd-95843f4dc925"
   },
   "outputs": [],
   "source": [
    "# Full configuration interaction (FCI) energy computed classically\n",
    "E_fci = -1.136189454088\n",
    "\n",
    "fig = plt.figure(figsize=(5,5))\n",
    "\n",
    "plt.plot(range(len(energy)), energy, 'o', ls='dashed', color='blue')\n",
    "plt.xlabel('Optimization step')\n",
    "plt.axhline(E_fci, color='red', ls='--')\n",
    "plt.ylabel('Energy (Hartree)')\n",
    "plt.show()"
   ]
  },
  {
   "cell_type": "markdown",
   "metadata": {},
   "source": [
    "##### The resulting energy matches the exact energy of the ground electronic state of H2, which is -1.1357 Ha\n",
    "---"
   ]
  },
  {
   "cell_type": "markdown",
   "metadata": {},
   "source": [
    "## Simulating LiH\n",
    "\n",
    "we first need to define the molecular parameters, including atomic symbols and coordinates"
   ]
  },
  {
   "cell_type": "code",
   "execution_count": null,
   "metadata": {},
   "outputs": [],
   "source": [
    "# Define atomic symbols for Lithium (Li) and Hydrogen (H)\n",
    "symbols = [\"Li\", \"H\"] \n",
    "# Define coordinates for the atoms in the molecule\n",
    "geometry = np.array([0.0, 0.0, 0.0, 0.0, 0.0, 2.969280527]) "
   ]
  },
  {
   "cell_type": "markdown",
   "metadata": {},
   "source": [
    "Compute the molecular Hamiltonian via `qchem.molecular_hamiltonian`  & obtain the electronic excitations via \"`qchem.excitations`\". `qchem.excitations` function  will computes the electronic excitations between different molecular orbitals."
   ]
  },
  {
   "cell_type": "code",
   "execution_count": null,
   "metadata": {},
   "outputs": [],
   "source": [
    "# Define the molecular Hamiltonian\n",
    "H, qubits = qchem.molecular_hamiltonian(\n",
    "    symbols,\n",
    "    geometry,\n",
    "    active_electrons=2, # The number of active electrons \n",
    "    active_orbitals=5 # The number of active molecular orbitals\n",
    ")\n",
    "\n",
    "# Set the number of active electrons\n",
    "active_electrons = 2\n",
    "\n",
    "# Get the single and double excitations\n",
    "singles, doubles = qchem.excitations(active_electrons, qubits) \n",
    "\n",
    "# Print the total number of excitations\n",
    "print(f\"Total number of excitations = {len(singles) + len(doubles)}\")"
   ]
  },
  {
   "cell_type": "markdown",
   "metadata": {},
   "source": [
    "We create **single** and **double excitation** operators and then combines them into a pool of operators"
   ]
  },
  {
   "cell_type": "code",
   "execution_count": null,
   "metadata": {},
   "outputs": [],
   "source": [
    "# Create a list of single excitations with initial amplitude 0.0\n",
    "singles_excitations = [qml.SingleExcitation(0.0, x) for x in singles]\n",
    "\n",
    "# Create a list of double excitations with initial amplitude 0.0\n",
    "doubles_excitations = [qml.DoubleExcitation(0.0, x) for x in doubles]\n",
    "\n",
    "# Combine the single and double excitations into an operator pool\n",
    "operator_pool = doubles_excitations + singles_excitations"
   ]
  },
  {
   "cell_type": "markdown",
   "metadata": {},
   "source": [
    "We define an initial circuit that prepares a Hartree-Fock state. Define a device and calculate the expectation value of the Hamiltonian. The `qchem.hf_state` function is used to generate the Hartree-Fock (HF) state for a quantum chemistry simulation"
   ]
  },
  {
   "cell_type": "code",
   "execution_count": null,
   "metadata": {},
   "outputs": [],
   "source": [
    "# Generate the initial state (Hartree-Fock state)\n",
    "hf_state = qchem.hf_state(active_electrons, qubits)\n",
    "\n",
    "# Define a quantum device\n",
    "dev = qml.device(\"default.qubit\", wires=qubits)\n",
    "\n",
    "# Define a quantum node (QNode)\n",
    "@qml.qnode(dev)\n",
    "def circuit():\n",
    "    # Apply Pauli-X gates to the qubits for which the Hartree-Fock state is non-zero\n",
    "    [qml.PauliX(i) for i in np.nonzero(hf_state)[0]]\n",
    "    # Return the expectation value of the Hamiltonian\n",
    "    return qml.expval(H)"
   ]
  },
  {
   "cell_type": "code",
   "execution_count": null,
   "metadata": {},
   "outputs": [],
   "source": [
    "# Initialize an AdaptiveOptimizer\n",
    "opt = qml.optimize.AdaptiveOptimizer()\n",
    "\n",
    "# Initialize lists to store energy and step values\n",
    "energies = []\n",
    "steps = []\n",
    "\n",
    "# Iterate over the elements in the operator_pool\n",
    "for i in range(len(operator_pool)):\n",
    "    # Build the circuit adaptively and perform one optimization step\n",
    "    # Also calculate the energy and gradient\n",
    "    circuit, energy, gradient = opt.step_and_cost(circuit, operator_pool)\n",
    "\n",
    "    # Store energy and step values\n",
    "    energies.append(energy)\n",
    "    steps.append(i)\n",
    "\n",
    "    # Print the energy, largest gradient, and circuit every 3 steps\n",
    "    if i % 3 == 0:\n",
    "        print(\"n = {:},  E = {:.8f} H, Largest Gradient = {:.3f}\".format(i, energy, gradient))\n",
    "        # Draw the current state of the quantum circuit\n",
    "        print(qml.draw(circuit, decimals=None)())\n",
    "        print()\n",
    "\n",
    "    # If the largest gradient in the optimization is below a certain threshold (3e-3), \n",
    "    # terminate the optimization loop early\n",
    "    if gradient < 3e-3:\n",
    "        break"
   ]
  },
  {
   "cell_type": "code",
   "execution_count": null,
   "metadata": {},
   "outputs": [],
   "source": [
    "# Full configuration interaction (FCI) energy computed classically\n",
    "E_fci = -7.8825378193\n",
    "\n",
    "fig = plt.figure(figsize=(5, 5))\n",
    "\n",
    "plt.plot(steps, energies, 'o', ls='dashed', color='blue')\n",
    "\n",
    "plt.xlabel('Optimization step')\n",
    "plt.axhline(E_fci, color='red', ls='--')\n",
    "plt.ylabel('Energy (Hartree)')\n",
    "plt.show()"
   ]
  },
  {
   "cell_type": "markdown",
   "metadata": {},
   "source": [
    "##### The resulting energy matches the exact energy of the ground electronic state of LiH, which is -7.8825378193 Ha"
   ]
  },
  {
   "cell_type": "code",
   "execution_count": null,
   "metadata": {},
   "outputs": [],
   "source": []
  }
 ],
 "metadata": {
  "colab": {
   "provenance": []
  },
  "kernelspec": {
   "display_name": "Python 3 (ipykernel)",
   "language": "python",
   "name": "python3"
  },
  "language_info": {
   "codemirror_mode": {
    "name": "ipython",
    "version": 3
   },
   "file_extension": ".py",
   "mimetype": "text/x-python",
   "name": "python",
   "nbconvert_exporter": "python",
   "pygments_lexer": "ipython3",
   "version": "3.9.13"
  }
 },
 "nbformat": 4,
 "nbformat_minor": 4
}
