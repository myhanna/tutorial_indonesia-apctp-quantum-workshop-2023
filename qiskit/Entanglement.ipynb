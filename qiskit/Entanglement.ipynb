{
 "cells": [
  {
   "cell_type": "markdown",
   "id": "b3c34554-7d65-40d1-8362-2ff4c7c2a9f9",
   "metadata": {},
   "source": [
    "# Entanglement in qubits\n",
    "\n",
    "created by M. Y. Hanna [muha207(at)brin.go.id]()"
   ]
  },
  {
   "cell_type": "markdown",
   "id": "28bf2721-9ab5-4480-b2e4-c3c15824d85c",
   "metadata": {},
   "source": [
    "---"
   ]
  },
  {
   "cell_type": "markdown",
   "id": "49fc6bd2-10a6-4341-99e2-e6ad61653aca",
   "metadata": {},
   "source": [
    "### Entanglement (Bell State)"
   ]
  },
  {
   "cell_type": "markdown",
   "id": "980f3b16-fc3a-4f19-8e6e-d4bb5ab86187",
   "metadata": {},
   "source": [
    "Two quantum systems are said to be entangled when the values of certain properties of one system are non-classically correlated with the values the same properties will assume for the other system."
   ]
  },
  {
   "cell_type": "markdown",
   "id": "a96323a1-d997-4140-adde-f0f540cc5fc3",
   "metadata": {},
   "source": [
    "Let's get started with one of the simplest examples of entangled states, known as the Bell State. The general form of a **Bell State** is:\n",
    "\n",
    "$$\n",
    "|\\beta_{xy} \\rangle = \\frac{|0y\\rangle + (-1)^{x}|1 \\bar{y}\\rangle}{\\sqrt{2}}\n",
    "$$"
   ]
  },
  {
   "cell_type": "markdown",
   "id": "c7571bcd-3a33-4715-8eeb-979c1bc10b57",
   "metadata": {},
   "source": [
    "The $x$ and $y$ are called the *phase bit* and *parity bit*, respectively. Consider one of the Bell states: \n",
    "\n",
    "$$| \\beta_{01} \\rangle = \\frac{|01\\rangle + |10\\rangle}{\\sqrt{2}}$$"
   ]
  },
  {
   "cell_type": "markdown",
   "id": "f8fe4614-b278-4e46-b030-cf42769f0e90",
   "metadata": {},
   "source": [
    "### Create a Bell state using simple circuit"
   ]
  },
  {
   "cell_type": "code",
   "execution_count": null,
   "id": "e1d463f9-0f31-4ab8-97d2-af84faa207cf",
   "metadata": {},
   "outputs": [],
   "source": [
    "from qiskit import QuantumCircuit, Aer, execute\n",
    "import numpy as np\n",
    "from qiskit.visualization import plot_histogram, plot_bloch_vector"
   ]
  },
  {
   "cell_type": "code",
   "execution_count": null,
   "id": "41919761-925d-4e77-a3f8-179ee98f220b",
   "metadata": {},
   "outputs": [],
   "source": [
    "bell = QuantumCircuit(2)\n",
    "\n",
    "bell.h(0)\n",
    "bell.cx(0,1)\n",
    "bell.measure_all()\n",
    "bell.draw('mpl')"
   ]
  },
  {
   "cell_type": "markdown",
   "id": "ab4c671d-a353-484d-90ba-3a00f28d6b26",
   "metadata": {},
   "source": [
    "### Simulate using local computer"
   ]
  },
  {
   "cell_type": "code",
   "execution_count": null,
   "id": "378f4b7d-c760-436f-ba6d-9642ccf141b7",
   "metadata": {},
   "outputs": [],
   "source": [
    "def simulator(qc, sampling):\n",
    "    backend_qasm = Aer.get_backend('qasm_simulator')\n",
    "    # Run the circuit and get the result\n",
    "    result = execute(qc, backend_qasm, shots=sampling).result()\n",
    "    return result.get_counts()"
   ]
  },
  {
   "cell_type": "code",
   "execution_count": null,
   "id": "4744284a-3af3-49dd-b224-a16b691a9d29",
   "metadata": {},
   "outputs": [],
   "source": [
    "plot_histogram(simulator(bell, 1000), color='midnightblue')"
   ]
  },
  {
   "cell_type": "markdown",
   "id": "f15ad22a-d567-45d0-8aa4-216332aa39c1",
   "metadata": {},
   "source": [
    "### Connect with the IBMQ"
   ]
  },
  {
   "cell_type": "markdown",
   "id": "750fccd9-2e1f-4593-b3f9-802298b210b3",
   "metadata": {},
   "source": [
    "Before connecting our computer to IBM's quantum computing for realistic simulations, please register first by clicking on \"Create an IBMid account\" using the following link: [https://quantum.ibm.com/](https://quantum.ibm.com/).\n",
    "\n",
    "![IBMid](../imag/IBMid.png)"
   ]
  },
  {
   "cell_type": "markdown",
   "id": "f8ce79f5-e94f-4fce-b6f3-82c5aa17de30",
   "metadata": {},
   "source": [
    "After registering your IBM account, please copy the API token to access IBM Quantum from your computer as follow\n",
    "\n",
    "![API Token](../imag/Token.png)"
   ]
  },
  {
   "cell_type": "code",
   "execution_count": null,
   "id": "cbf43e41-5ca2-49c8-9e4c-4b165cc81599",
   "metadata": {},
   "outputs": [],
   "source": [
    "from qiskit_ibm_runtime import QiskitRuntimeService, Sampler, Estimator, Session\n",
    "from qiskit.tools import job_monitor\n",
    "import time\n",
    "\n",
    "# Suppress warnings\n",
    "import warnings\n",
    "warnings.filterwarnings('ignore')\n",
    "\n",
    "# Read the token from a file\n",
    "with open('./IBMQ_token.dat', 'r') as file:\n",
    "    token = file.read().strip()\n",
    "\n",
    "# Use the token to save the account\n",
    "QiskitRuntimeService.save_account(channel='ibm_quantum', token=token, overwrite=True)"
   ]
  },
  {
   "cell_type": "code",
   "execution_count": null,
   "id": "6a17960c-7fde-4678-8c7b-333810adeb1a",
   "metadata": {},
   "outputs": [],
   "source": [
    "service = QiskitRuntimeService(instance='ibm-q/open/main')\n",
    "backends = service.backends()\n",
    "#backends = service.backends(simulator=False, min_num_qubits=5)\n",
    "print(backends)"
   ]
  },
  {
   "cell_type": "markdown",
   "id": "9f0e27f1-1afc-4042-a4a0-fc845acc581e",
   "metadata": {},
   "source": [
    "To access an actual quantum processing unit (QPU) as a backend, please visit this link for more detailed information about QPUs: [https://quantum.ibm.com/services/resources](https://quantum.ibm.com/services/resources). In this example, we try to use the `ibm_brisbane` as QPU\n",
    "\n",
    "![IBM_Brisbane](../imag/ibm_brisbane.png)"
   ]
  },
  {
   "cell_type": "markdown",
   "id": "aaeb335f-8494-4f21-8e21-b19391c0c3d5",
   "metadata": {},
   "source": [
    "and with the calibration readout error as shown in figure below\n",
    "\n",
    "![Brisbane_error](../imag/ibm_brisbane_calibrations_readout_error.png)"
   ]
  },
  {
   "cell_type": "markdown",
   "id": "372a2c8d-acc7-4152-8c0e-7176e5742aeb",
   "metadata": {},
   "source": [
    "#### Submit job into IBMQ"
   ]
  },
  {
   "cell_type": "code",
   "execution_count": null,
   "id": "22c79412-2af3-4db2-8463-5664f3c349e9",
   "metadata": {},
   "outputs": [],
   "source": [
    "backend = service.get_backend('ibm_brisbane')\n",
    "\n",
    "with Session(service=service, backend=backend) as session:\n",
    "    sampler = Sampler()\n",
    "    job = sampler.run(circuits=bell)\n",
    "    \n",
    "    # Monitor the job status\n",
    "    while job.status() not in ['DONE', 'CANCELLED', 'ERROR']:\n",
    "        print('Job Status:', job.status())\n",
    "        time.sleep(10)  # wait for 10 seconds before checking the status again"
   ]
  },
  {
   "cell_type": "markdown",
   "id": "4177d927-3c13-4c47-8bb7-8669cf118d77",
   "metadata": {},
   "source": [
    "For more detail about job, we can visit this link [https://quantum.ibm.com/jobs](https://quantum.ibm.com/jobs)\n",
    "\n",
    "![QUEUED](../imag/job_IBM.png)"
   ]
  },
  {
   "cell_type": "code",
   "execution_count": null,
   "id": "38238ba7-f77d-4b5b-9f32-b5b4befaf0a2",
   "metadata": {},
   "outputs": [],
   "source": [
    "job.job_id()"
   ]
  },
  {
   "cell_type": "code",
   "execution_count": null,
   "id": "bdb0d3ce-9a0f-47dc-9275-46134026104d",
   "metadata": {},
   "outputs": [],
   "source": [
    "print(job.logs())"
   ]
  },
  {
   "cell_type": "code",
   "execution_count": null,
   "id": "73257aa6-8bc5-4db6-baba-09c2e8a3ec19",
   "metadata": {},
   "outputs": [],
   "source": [
    "plot_histogram(job.result().quasi_dists[0].binary_probabilities())"
   ]
  },
  {
   "cell_type": "markdown",
   "id": "0da2e3eb-e87f-49f5-929b-5522c798a235",
   "metadata": {},
   "source": [
    "### Connect with the IBMQ (Alternative)"
   ]
  },
  {
   "cell_type": "markdown",
   "id": "d73246c8-feec-452d-a367-46d1dc9b876a",
   "metadata": {},
   "source": [
    "#### Fake Provider"
   ]
  },
  {
   "cell_type": "markdown",
   "id": "2a065086-5595-46a3-b912-45bbaca169d3",
   "metadata": {},
   "source": [
    "[The fake provider module](https://docs.quantum.ibm.com/api/qiskit/providers_fake_provider) contains fake providers and fake backends classes. The fake backends are built to mimic the behaviors of IBM Quantum systems using system snapshots. The system snapshots contain important information about the quantum system such as coupling map, basis gates, qubit properties (T1, T2, error rate, etc.) which are useful for testing the transpiler and performing noisy simulation of the system."
   ]
  },
  {
   "cell_type": "code",
   "execution_count": null,
   "id": "2f025d48-4382-4de4-9962-f4ffcea25f62",
   "metadata": {},
   "outputs": [],
   "source": [
    "from qiskit.providers.fake_provider import FakeWashingtonV2"
   ]
  },
  {
   "cell_type": "code",
   "execution_count": null,
   "id": "05f69cfb-206b-4b84-a6bc-c58cb46eba22",
   "metadata": {},
   "outputs": [],
   "source": [
    "def run_QPU(qc, sampling):\n",
    "    fake_backend = FakeWashingtonV2()\n",
    "    job = execute(qc, fake_backend, shot=sampling)\n",
    "    counts = job.result().get_counts()\n",
    "    return counts\n",
    "\n",
    "plot_histogram(run_QPU(bell, 1000), color='midnightblue')"
   ]
  },
  {
   "cell_type": "markdown",
   "id": "3f5d95a7-951f-4e21-84cc-c55e3343dd21",
   "metadata": {},
   "source": [
    "Here we observe that the states $|00\\rangle$ and $|11\\rangle$ have nearly equal probabilities, whereas the states ($|10\\rangle$, $|01\\rangle$) should not exist according to theoretical considerations, but do exist due to unavoidable quantum noise."
   ]
  },
  {
   "cell_type": "markdown",
   "id": "8ac5824b-4370-4181-98f3-9a5589cb236c",
   "metadata": {},
   "source": [
    "The qubits’ collective state cannot be expressed as two discrete qubits. As mentioned earlier, the measurement of one qubit at state $|0\\rangle$ leads to the collapse of the collective system to state $|00\\rangle$. "
   ]
  },
  {
   "cell_type": "markdown",
   "id": "14e84a00-2359-4edb-af93-ba91483b0299",
   "metadata": {},
   "source": [
    "### Greenberger–Horne–Zeilinger state\n",
    "\n",
    "In the field of quantum physics, specifically in quantum information theory, a GHZ state, named after Greenberger, Horne, and Zeilinger, is a special kind of connected quantum state that requires a minimum of three parts, like particle states, qubits, or qudits."
   ]
  },
  {
   "cell_type": "code",
   "execution_count": null,
   "id": "84e8650b-3459-4c8d-996b-27841de0ed76",
   "metadata": {},
   "outputs": [],
   "source": [
    "def ghz_state(num_qubits):\n",
    "    '''\n",
    "    Create a quantum circuit with the specified number of qubits\n",
    "    '''\n",
    "    ghz_circuit = QuantumCircuit(num_qubits)\n",
    "\n",
    "    # Apply a Hadamard gate to the first qubit\n",
    "    ghz_circuit.h(0)\n",
    "\n",
    "    # Apply a series of CNOT gates\n",
    "    for i in range(num_qubits - 1):\n",
    "        ghz_circuit.cx(i, i + 1)\n",
    "    ghz_circuit.measure_all()\n",
    "\n",
    "    return ghz_circuit"
   ]
  },
  {
   "cell_type": "code",
   "execution_count": null,
   "id": "c604ae3e-cd1d-4340-9965-cad92e74346a",
   "metadata": {},
   "outputs": [],
   "source": [
    "ghz_state(5).draw('mpl')"
   ]
  },
  {
   "cell_type": "markdown",
   "id": "1e7f10c5-307f-49e1-b4b5-47c12f25b5c8",
   "metadata": {},
   "source": [
    "#### Run into local computer"
   ]
  },
  {
   "cell_type": "code",
   "execution_count": null,
   "id": "7423a6a7-cd11-4b2f-96d5-549ced7a6060",
   "metadata": {},
   "outputs": [],
   "source": [
    "plot_histogram(simulator(ghz_state(5), 1000), color='midnightblue')"
   ]
  },
  {
   "cell_type": "markdown",
   "id": "955b36dc-771c-4fed-9e58-c81775971770",
   "metadata": {},
   "source": [
    "#### Run into QPU via Fake Provider"
   ]
  },
  {
   "cell_type": "code",
   "execution_count": null,
   "id": "0dde339c-6fe3-454d-a2df-377136477deb",
   "metadata": {},
   "outputs": [],
   "source": [
    "plot_histogram(run_QPU(ghz_state(5), 1000), color='midnightblue')"
   ]
  },
  {
   "cell_type": "markdown",
   "id": "44b8d0c8-2099-4e7d-ac9b-a4de07dd26d6",
   "metadata": {},
   "source": [
    "## [W state](https://en.wikipedia.org/wiki/W_state)\n",
    "\n",
    "The $W$ state is a special way three quantum bits (qubits) are connected or 'entangled.' Imagine each qubit like a tiny, super-advanced computer bit. In this state, they are linked in a unique pattern that can be described using a mathematical formula. This pattern is important because it shows a special kind of connection between the qubits that is useful in advanced quantum computing. It's like having three players in a game, each holding a bit of shared information that they can't reveal entirely. This state helps us understand a rule in quantum physics called Bell's theorem. This theorem says that quantum mechanics (the science of super small particles) works in a way that can't be explained by simpler, classical ideas. The $W$ state was first described by Wolfgang Dür, Guifré Vidal, and Ignacio Cirac in 2002.\n",
    "\n",
    "$$\n",
    "| W \\rangle = \\frac{1}{\\sqrt{3}} \\left(|001\\rangle + |010\\rangle + |100\\rangle \\right)\n",
    "$$\n",
    "\n"
   ]
  },
  {
   "cell_type": "code",
   "execution_count": null,
   "id": "8adbe19e-74de-45ab-8ead-25c323cac8f5",
   "metadata": {},
   "outputs": [],
   "source": [
    "import math\n",
    "\n",
    "# Create a quantum circuit with 3 qubits\n",
    "W_qc = QuantumCircuit(3)\n",
    "\n",
    "# Rotation angle to create superposition for W state\n",
    "phi_3 = 2 * math.acos(1 / math.sqrt(3))\n",
    "\n",
    "# Apply rotation around the Y-axis on the first qubit\n",
    "W_qc.ry(phi_3, 0)\n",
    "# Apply the Hadamard gate on the second qubit\n",
    "W_qc.h(1)\n",
    "# Apply CNOT gate with the second qubit as control and the third qubit as target\n",
    "W_qc.cx(1, 2)\n",
    "# Apply CNOT gate with the first qubit as control and the second qubit as target\n",
    "W_qc.cx(0, 1)\n",
    "# Apply Pauli-X gate on the first qubit\n",
    "W_qc.x(0)\n",
    "\n",
    "# To visualize the circuit you can use qc.draw()\n",
    "W_qc.draw('mpl')"
   ]
  },
  {
   "cell_type": "code",
   "execution_count": null,
   "id": "aee82ee8-1349-4682-8e77-41a868564a1e",
   "metadata": {},
   "outputs": [],
   "source": [
    "# Display the statevector in Latex\n",
    "from qiskit.visualization import array_to_latex\n",
    "\n",
    "def statevector(qc, display_latex=True):\n",
    "    '''Calculates the statevector of a quantum circuit'''\n",
    "    # Set the backend to the statevector simulator\n",
    "    backend = Aer.get_backend('statevector_simulator')\n",
    "    # Execute the circuit and get the result\n",
    "    job = execute(qc, backend)\n",
    "    result = job.result()\n",
    "    # Get the statevector from the result\n",
    "    final_state = result.get_statevector(qc)\n",
    "    if display_latex:\n",
    "        # Convert the Statevector object to a numpy array and reshape it to a column vector\n",
    "        column_statevector = np.reshape(final_state.data, (len(final_state.data), 1))\n",
    "        # Display the statevector as a column vector in LaTeX format\n",
    "        return array_to_latex(column_statevector, prefix=\"\\\\text{Statevector} = \")\n",
    "    else:\n",
    "        return final_state"
   ]
  },
  {
   "cell_type": "code",
   "execution_count": null,
   "id": "451cb73a-8500-4bf2-83df-c16001caf547",
   "metadata": {},
   "outputs": [],
   "source": [
    "statevector(W_qc, display_latex=True)"
   ]
  },
  {
   "cell_type": "code",
   "execution_count": null,
   "id": "b6335eee-4adb-438d-be5e-66c8d2dcfc02",
   "metadata": {},
   "outputs": [],
   "source": [
    "statevector(W_qc, display_latex=False).draw('latex')"
   ]
  },
  {
   "cell_type": "code",
   "execution_count": null,
   "id": "d2c3f277-05d1-4248-846b-8ec99390bcb8",
   "metadata": {},
   "outputs": [],
   "source": [
    "W_qc.measure_all()\n",
    "W_qc.draw('mpl')"
   ]
  },
  {
   "cell_type": "markdown",
   "id": "bd506000-2025-42f9-80f9-1c88f44ceda6",
   "metadata": {},
   "source": [
    "#### Run ideal case"
   ]
  },
  {
   "cell_type": "code",
   "execution_count": null,
   "id": "6910bd06-4056-489f-bf2e-da867dabdedf",
   "metadata": {},
   "outputs": [],
   "source": [
    "plot_histogram(simulator(W_qc, 1000), color='midnightblue')"
   ]
  },
  {
   "cell_type": "markdown",
   "id": "fa000bf6-7d13-4465-9e2a-8bbb4a35b6f8",
   "metadata": {},
   "source": [
    "#### Run into QPU "
   ]
  },
  {
   "cell_type": "code",
   "execution_count": null,
   "id": "50b41954-3d14-4bad-ba60-13c7bf6e1525",
   "metadata": {},
   "outputs": [],
   "source": [
    "plot_histogram(run_QPU(W_qc, 1000), color='midnightblue')"
   ]
  }
 ],
 "metadata": {
  "kernelspec": {
   "display_name": "Python 3 (ipykernel)",
   "language": "python",
   "name": "python3"
  },
  "language_info": {
   "codemirror_mode": {
    "name": "ipython",
    "version": 3
   },
   "file_extension": ".py",
   "mimetype": "text/x-python",
   "name": "python",
   "nbconvert_exporter": "python",
   "pygments_lexer": "ipython3",
   "version": "3.9.13"
  }
 },
 "nbformat": 4,
 "nbformat_minor": 5
}
