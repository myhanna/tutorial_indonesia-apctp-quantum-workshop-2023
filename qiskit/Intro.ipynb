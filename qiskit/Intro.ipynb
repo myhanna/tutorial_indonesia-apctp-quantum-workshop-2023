{
 "cells": [
  {
   "cell_type": "markdown",
   "id": "35e24da6",
   "metadata": {},
   "source": [
    "# Baby Step Jump into Quantum Computing with `qiskit`\n",
    "---"
   ]
  },
  {
   "cell_type": "markdown",
   "id": "6dd1bc87-c8e6-4639-bfeb-f3b06122a0a2",
   "metadata": {},
   "source": [
    "created by M. Y. Hanna [muha207(at)brin.go.id]()"
   ]
  },
  {
   "cell_type": "markdown",
   "id": "03f94668",
   "metadata": {},
   "source": [
    "## Before we start"
   ]
  },
  {
   "cell_type": "raw",
   "metadata": {},
   "source": [
    "!pip install \"qiskit[visualization]\" --user\n",
    "#!pip install qiskit-ibm-runtime\n",
    "#!pip install -U qiskit --user\n",
    "#!pip uninstall qiskit"
   ]
  },
  {
   "cell_type": "raw",
   "metadata": {},
   "source": [
    "import qiskit\n",
    "versions = qiskit.__qiskit_version__\n",
    "print(\"The version of Qiskit is\",versions['qiskit'])\n",
    "print()\n",
    "print(\"The version of each component:\")\n",
    "for key in versions:\n",
    "    print(key,\"->\",versions[key])"
   ]
  },
  {
   "cell_type": "markdown",
   "id": "2806cc84",
   "metadata": {},
   "source": [
    "## Create circuit"
   ]
  },
  {
   "cell_type": "code",
   "execution_count": null,
   "id": "22baa4fd",
   "metadata": {},
   "outputs": [],
   "source": [
    "from qiskit import QuantumCircuit, Aer, execute\n",
    "import numpy as np\n",
    "from qiskit.visualization import plot_histogram, plot_bloch_vector"
   ]
  },
  {
   "cell_type": "markdown",
   "id": "43eae249-cfeb-49b7-9f82-772690da91bf",
   "metadata": {},
   "source": [
    "#### Statevector and Bloch coordinates "
   ]
  },
  {
   "cell_type": "markdown",
   "id": "2b615a9a",
   "metadata": {},
   "source": [
    "To obtain information about the state vector of our circuit, we can utilize the `Statevector` object, which permits us to set an initial state vector, evolve it, and view the quantum state of a single-qubit using the Bloch sphere."
   ]
  },
  {
   "cell_type": "code",
   "execution_count": null,
   "id": "61de3110",
   "metadata": {},
   "outputs": [],
   "source": [
    "# Display the statevector in Latex\n",
    "from qiskit.visualization import array_to_latex\n",
    "\n",
    "def statevector(qc, display_latex=True):\n",
    "    '''Calculates the statevector of a quantum circuit'''\n",
    "    # Set the backend to the statevector simulator\n",
    "    backend = Aer.get_backend('statevector_simulator')\n",
    "    # Execute the circuit and get the result\n",
    "    job = execute(qc, backend)\n",
    "    result = job.result()\n",
    "    # Get the statevector from the result\n",
    "    final_state = result.get_statevector(qc)\n",
    "    if display_latex:\n",
    "        # Convert the Statevector object to a numpy array and reshape it to a column vector\n",
    "        column_statevector = np.reshape(final_state.data, (len(final_state.data), 1))\n",
    "        # Display the statevector as a column vector in LaTeX format\n",
    "        return array_to_latex(column_statevector, prefix=\"\\\\text{Statevector} = \")\n",
    "    else:\n",
    "        return final_state\n",
    "    \n",
    "def bloch_coordinates(statevector):\n",
    "    '''Calculate the Bloch coordinates from a given statevector'''\n",
    "    alpha, beta = statevector[0], statevector[1]\n",
    "    x = 2 * np.real(np.conj(alpha) * beta)\n",
    "    y = 2 * np.imag(np.conj(alpha) * beta)\n",
    "    z = abs(alpha)**2 - abs(beta)**2\n",
    "    return [x, y, z]"
   ]
  },
  {
   "cell_type": "markdown",
   "id": "5328cede",
   "metadata": {},
   "source": [
    "To initialize a quantum circuit, we call an object named `QuantumCircuit`."
   ]
  },
  {
   "cell_type": "code",
   "execution_count": null,
   "id": "fd52af32",
   "metadata": {},
   "outputs": [],
   "source": [
    "qc1 = QuantumCircuit(1)\n",
    "qc2 = qc1.copy()\n",
    "qc3 = qc1.copy()\n",
    "qc4 = qc1.copy()\n",
    "\n",
    "# see the circuit\n",
    "qc1.draw('mpl')"
   ]
  },
  {
   "cell_type": "code",
   "execution_count": null,
   "id": "0ee98fd6",
   "metadata": {},
   "outputs": [],
   "source": [
    "statevector(qc1, display_latex=True)"
   ]
  },
  {
   "cell_type": "code",
   "execution_count": null,
   "id": "81fae954",
   "metadata": {},
   "outputs": [],
   "source": [
    "bloch_qc1 = bloch_coordinates(statevector(qc1, display_latex=False))\n",
    "plot_bloch_vector(bloch_qc1,figsize=(3.5,3.5))"
   ]
  },
  {
   "cell_type": "markdown",
   "id": "72c57c67",
   "metadata": {},
   "source": [
    "The qubit's initial state vector defaults to $|0\\rangle$. If you would like to set the initial state vector to $|1\\rangle$, we can do so by introducing the **X-gate** (**Pauli-X gate**) into our circuit."
   ]
  },
  {
   "cell_type": "code",
   "execution_count": null,
   "id": "942fa410",
   "metadata": {},
   "outputs": [],
   "source": [
    "qc2.x(0)\n",
    "\n",
    "qc2.draw('mpl')"
   ]
  },
  {
   "cell_type": "code",
   "execution_count": null,
   "id": "155a0c8f",
   "metadata": {},
   "outputs": [],
   "source": [
    "statevector(qc2, display_latex=True)"
   ]
  },
  {
   "cell_type": "code",
   "execution_count": null,
   "id": "671e2562",
   "metadata": {},
   "outputs": [],
   "source": [
    "bloch_qc2 = bloch_coordinates(statevector(qc2, display_latex=False))\n",
    "plot_bloch_vector(bloch_qc2,figsize=(3.5,3.5))"
   ]
  },
  {
   "cell_type": "markdown",
   "id": "5a205275",
   "metadata": {},
   "source": [
    "The purpose of the X-gate is to flip from $|0\\rangle$ to $|1\\rangle$."
   ]
  },
  {
   "cell_type": "code",
   "execution_count": null,
   "id": "2408b5c5",
   "metadata": {},
   "outputs": [],
   "source": [
    "qc3.h(0)\n",
    "\n",
    "qc3.draw('mpl')"
   ]
  },
  {
   "cell_type": "code",
   "execution_count": null,
   "id": "6e6b92f7",
   "metadata": {},
   "outputs": [],
   "source": [
    "statevector(qc3, display_latex=True)"
   ]
  },
  {
   "cell_type": "code",
   "execution_count": null,
   "id": "8476e0ca",
   "metadata": {},
   "outputs": [],
   "source": [
    "bloch_qc3 = bloch_coordinates(statevector(qc3, display_latex=False))\n",
    "plot_bloch_vector(bloch_qc3,figsize=(3.5,3.5))"
   ]
  },
  {
   "cell_type": "markdown",
   "id": "acc61b27",
   "metadata": {},
   "source": [
    "This statevector is known as $|+\\rangle = H |0 \\rangle$"
   ]
  },
  {
   "cell_type": "code",
   "execution_count": null,
   "id": "d55ef2a3",
   "metadata": {},
   "outputs": [],
   "source": [
    "qc4.x(0)\n",
    "qc4.h(0)\n",
    "\n",
    "qc4.draw('mpl')"
   ]
  },
  {
   "cell_type": "code",
   "execution_count": null,
   "id": "2a28d46d",
   "metadata": {},
   "outputs": [],
   "source": [
    "statevector(qc4, display_latex=True)"
   ]
  },
  {
   "cell_type": "code",
   "execution_count": null,
   "id": "14d2d3d6",
   "metadata": {},
   "outputs": [],
   "source": [
    "bloch_qc4 = bloch_coordinates(statevector(qc4, display_latex=False))\n",
    "plot_bloch_vector(bloch_qc4,figsize=(3.5,3.5))"
   ]
  },
  {
   "cell_type": "markdown",
   "id": "ce98cb62",
   "metadata": {},
   "source": [
    "This statevector is known as $|-\\rangle = H |1 \\rangle$"
   ]
  },
  {
   "cell_type": "markdown",
   "id": "4129409c-1674-49fd-b520-4520d23dc864",
   "metadata": {},
   "source": [
    "#### Visualize the circuit"
   ]
  },
  {
   "cell_type": "markdown",
   "id": "33835f7c",
   "metadata": {},
   "source": [
    "There are several option to visualize the circuit:"
   ]
  },
  {
   "cell_type": "code",
   "execution_count": null,
   "id": "973a3c88",
   "metadata": {},
   "outputs": [],
   "source": [
    "qc4.draw('mpl')"
   ]
  },
  {
   "cell_type": "code",
   "execution_count": null,
   "id": "a862bcf2",
   "metadata": {},
   "outputs": [],
   "source": [
    "qc4.draw('text')"
   ]
  },
  {
   "cell_type": "code",
   "execution_count": null,
   "id": "42c8d060",
   "metadata": {},
   "outputs": [],
   "source": [
    "qc4.draw('latex')"
   ]
  },
  {
   "cell_type": "markdown",
   "id": "b93cd4cc",
   "metadata": {},
   "source": [
    "## Single qubit gates on multi-qubit statevector"
   ]
  },
  {
   "cell_type": "code",
   "execution_count": null,
   "id": "70d52f71",
   "metadata": {},
   "outputs": [],
   "source": [
    "qc5 = QuantumCircuit(3)\n",
    "# Apply Hadamard gate to each qubit\n",
    "for i in range(3):\n",
    "    qc5.h(i)\n",
    "# See the circuit\n",
    "qc5.draw('mpl')"
   ]
  },
  {
   "cell_type": "code",
   "execution_count": null,
   "id": "6f6a52ce",
   "metadata": {},
   "outputs": [],
   "source": [
    "statevector(qc5, display_latex=True)"
   ]
  },
  {
   "cell_type": "code",
   "execution_count": null,
   "id": "3d7a8434",
   "metadata": {},
   "outputs": [],
   "source": [
    "statevector(qc5, display_latex=False).draw('latex')"
   ]
  },
  {
   "cell_type": "markdown",
   "id": "d1802772",
   "metadata": {},
   "source": [
    "Determine the operator of the our circuit"
   ]
  },
  {
   "cell_type": "code",
   "execution_count": null,
   "id": "e31ee4a6",
   "metadata": {},
   "outputs": [],
   "source": [
    "from qiskit.quantum_info import Operator\n",
    "\n",
    "def Operators(qc):\n",
    "    '''Determine the operator of the circuit'''\n",
    "    ops = Operator(qc)\n",
    "    return array_to_latex(ops.data, prefix=\"\\\\text{Circuit} = \")"
   ]
  },
  {
   "cell_type": "code",
   "execution_count": null,
   "id": "a1ad13c6",
   "metadata": {},
   "outputs": [],
   "source": [
    "Operators(qc5)"
   ]
  },
  {
   "cell_type": "markdown",
   "id": "2e4982d1",
   "metadata": {},
   "source": [
    "Try another circuit"
   ]
  },
  {
   "cell_type": "code",
   "execution_count": null,
   "id": "bc24b996",
   "metadata": {},
   "outputs": [],
   "source": [
    "qc6 = QuantumCircuit(2)\n",
    "qc6.h(0)\n",
    "qc6.x(1)\n",
    "qc6.draw('mpl')"
   ]
  },
  {
   "cell_type": "code",
   "execution_count": null,
   "id": "6fad49a4",
   "metadata": {},
   "outputs": [],
   "source": [
    "statevector(qc6, display_latex=True)"
   ]
  },
  {
   "cell_type": "code",
   "execution_count": null,
   "id": "23205234",
   "metadata": {},
   "outputs": [],
   "source": [
    "Operators(qc6)"
   ]
  },
  {
   "cell_type": "code",
   "execution_count": null,
   "id": "12a2c781",
   "metadata": {},
   "outputs": [],
   "source": [
    "Operators(qc1)"
   ]
  },
  {
   "cell_type": "code",
   "execution_count": null,
   "id": "16eb817b",
   "metadata": {},
   "outputs": [],
   "source": [
    "qc7 = QuantumCircuit(2)\n",
    "qc7.x(1)\n",
    "\n",
    "qc7.draw('mpl')"
   ]
  },
  {
   "cell_type": "code",
   "execution_count": null,
   "id": "cf3d992e",
   "metadata": {},
   "outputs": [],
   "source": [
    "Operators(qc7)"
   ]
  },
  {
   "cell_type": "markdown",
   "id": "8bcdee75",
   "metadata": {},
   "source": [
    "## Multi-Qubit Gates"
   ]
  },
  {
   "cell_type": "code",
   "execution_count": null,
   "id": "f4db4ee4",
   "metadata": {},
   "outputs": [],
   "source": [
    "qc8 = QuantumCircuit(2)\n",
    "qc8.x(0)\n",
    "qc8.h(0)\n",
    "qc8.cx(0,1)\n",
    "\n",
    "qc8.draw('mpl')"
   ]
  },
  {
   "cell_type": "code",
   "execution_count": null,
   "id": "32935915",
   "metadata": {},
   "outputs": [],
   "source": [
    "Operators(qc8)"
   ]
  },
  {
   "cell_type": "code",
   "execution_count": null,
   "id": "c7645380",
   "metadata": {},
   "outputs": [],
   "source": [
    "statevector(qc8, display_latex=True)"
   ]
  },
  {
   "cell_type": "code",
   "execution_count": null,
   "id": "202041f2",
   "metadata": {},
   "outputs": [],
   "source": [
    "Re_qc8_statevector = np.real(statevector(qc8, display_latex=False))  \n",
    "plot_bloch_vector(Re_qc8_statevector, figsize=(3.5, 3.5))"
   ]
  },
  {
   "cell_type": "code",
   "execution_count": null,
   "id": "3a6e9efe",
   "metadata": {},
   "outputs": [],
   "source": [
    "from qiskit.visualization import plot_state_qsphere\n",
    "\n",
    "plot_state_qsphere(Re_qc8_statevector)"
   ]
  },
  {
   "cell_type": "markdown",
   "id": "9b3ac8a5",
   "metadata": {},
   "source": [
    "The size of the ball is proportional to the probability of measuring that state and the color represents the phase"
   ]
  },
  {
   "cell_type": "markdown",
   "id": "02b1b052",
   "metadata": {},
   "source": [
    "The image displays a Q-sphere, a visual representation of the state of a two-qubit system in quantum computing, reflecting the outcomes from a specific quantum circuit. The Q-sphere shows two prominent points, one at the top and one at the bottom, which correspond to the quantum states |00⟩ and |11⟩ respectively. Their equal size suggests that the system has an equal chance of being measured in either of these two states. The absence of other points means that the states |01⟩ and |10⟩ have no probability of being measured. The positioning of the points directly opposite each other, combined with the color coding, indicates these states are out of phase by π radians, a hallmark of quantum entanglement. This pattern is typical of the Bell state $|\\Phi^+\\rangle = \\frac{1}{\\sqrt{2}}(|00\\rangle + |11\\rangle)$, an entangled state where the measurement of one qubit will immediately determine the state of the other, showing the qubits are perfectly correlated."
   ]
  },
  {
   "cell_type": "code",
   "execution_count": null,
   "id": "f2175166",
   "metadata": {},
   "outputs": [],
   "source": [
    "def quasiprobability(qc):\n",
    "    '''\n",
    "    Calculate probability from the circuit\n",
    "    '''\n",
    "    backend = Aer.get_backend('statevector_simulator')\n",
    "    result = execute(qc, backend).result()\n",
    "    return result.get_counts()\n",
    "\n",
    "plot_histogram(quasiprobability(qc8))"
   ]
  },
  {
   "cell_type": "markdown",
   "id": "95b77d2d",
   "metadata": {},
   "source": [
    "## Sampling the circuit (simulator & real hardware)"
   ]
  },
  {
   "cell_type": "markdown",
   "id": "61c57cdf",
   "metadata": {},
   "source": [
    "Now we want to run the circuit as how it is done in a real experiment, by sampling it.\n",
    "We have two ways to do it, either by using a sampling simulator or by running the code on a real QPU."
   ]
  },
  {
   "cell_type": "markdown",
   "id": "94880cc1",
   "metadata": {},
   "source": [
    "First, let's try to obtain the output of a quantum circuit using the sampling simulator called the `QASM simulator`."
   ]
  },
  {
   "cell_type": "code",
   "execution_count": null,
   "id": "79a7a781",
   "metadata": {},
   "outputs": [],
   "source": [
    "def simulator(qc, sampling):\n",
    "    '''\n",
    "    Simulates the given quantum circuit and returns the measurement counts.\n",
    "    '''\n",
    "    backend_qasm = Aer.get_backend('qasm_simulator')\n",
    "    # Run the circuit and get the result\n",
    "    result = execute(qc, backend_qasm, shots=sampling).result()\n",
    "    return result.get_counts()"
   ]
  },
  {
   "cell_type": "markdown",
   "id": "b9ef2b1f",
   "metadata": {},
   "source": [
    "Since we are now doing a real measurement (sampling), we need to put the measurement on the circuit."
   ]
  },
  {
   "cell_type": "code",
   "execution_count": null,
   "id": "ad67fc34",
   "metadata": {},
   "outputs": [],
   "source": [
    "# create quantum cirquit\n",
    "qc9 = QuantumCircuit(2)\n",
    "qc9.x(0)\n",
    "qc9.h(0)\n",
    "qc9.cx(0,1)\n",
    "qc9.measure_all()\n",
    "\n",
    "qc9.draw('mpl')"
   ]
  },
  {
   "cell_type": "code",
   "execution_count": null,
   "id": "14b57b7d",
   "metadata": {},
   "outputs": [],
   "source": [
    "plot_histogram(simulator(qc9, 1000))"
   ]
  },
  {
   "cell_type": "markdown",
   "id": "3f57817b",
   "metadata": {},
   "source": [
    "Several observations to make:\n",
    "\n",
    "1. It's not always exactly 50-50 between the states. Since this simulator samples the circuit, it's expected that we won't get the theoretical probability. It's similar to flipping a coin with two sides - we know that in theory, there's a 50-50 chance of getting heads or tails. But when we experiment with a limited number of samples, we often get more of one or the other instead.\n",
    "2. The combined count of 486 and 514 measurements equals the total, which is determined by the \"shots\" parameter.  Theoretically, infinite measurements would result in a 50-50 probability. Conversely, the probability of deviation from theory increases with fewer measurements."
   ]
  },
  {
   "cell_type": "markdown",
   "id": "8a9715da-45cf-4555-90b6-6fa8bd041ab9",
   "metadata": {},
   "source": [
    "## Some more features"
   ]
  },
  {
   "cell_type": "markdown",
   "id": "110c7c5a",
   "metadata": {},
   "source": [
    "### Arbitrary state "
   ]
  },
  {
   "cell_type": "markdown",
   "id": "3b24cf90",
   "metadata": {},
   "source": [
    "We assume have initial state as follows\n",
    "\n",
    "$$\n",
    "| \\Psi (a) \\rangle = a |0\\rangle + \\sqrt{(1-a^{2})} |1\\rangle\n",
    "$$\n",
    "where $a$ is the real number"
   ]
  },
  {
   "cell_type": "code",
   "execution_count": null,
   "id": "62323995",
   "metadata": {},
   "outputs": [],
   "source": [
    "a = 0.24112022\n",
    "init_state = [a, np.sqrt(1-a**2)]\n",
    "\n",
    "init_state"
   ]
  },
  {
   "cell_type": "code",
   "execution_count": null,
   "id": "7df04c81",
   "metadata": {},
   "outputs": [],
   "source": [
    "qc10 = QuantumCircuit(2)\n",
    "qc10.initialize(init_state, 0)\n",
    "\n",
    "qc10.draw('mpl')"
   ]
  },
  {
   "cell_type": "markdown",
   "id": "24f62d2d",
   "metadata": {},
   "source": [
    "Obtain unitary tranformation to prepare the initial state"
   ]
  },
  {
   "cell_type": "code",
   "execution_count": null,
   "id": "2c9980d8",
   "metadata": {},
   "outputs": [],
   "source": [
    "def unitary_transformation(qc, display_latex=True):\n",
    "    backend = Aer.get_backend('unitary_simulator')\n",
    "    job = execute(qc, backend)\n",
    "    result = job.result()\n",
    "    unitary = result.get_unitary(qc, decimals=6)\n",
    "    if display_latex:\n",
    "        return array_to_latex(unitary, prefix=\"\\\\text{Circuit} = \")\n",
    "    else:\n",
    "        return unitary"
   ]
  },
  {
   "cell_type": "code",
   "execution_count": null,
   "id": "516c2b03",
   "metadata": {},
   "outputs": [],
   "source": [
    "unitary_transformation(qc10)"
   ]
  },
  {
   "cell_type": "code",
   "execution_count": null,
   "id": "df4f779b",
   "metadata": {},
   "outputs": [],
   "source": [
    "from qiskit.quantum_info import Statevector\n",
    "\n",
    "sv_0 = Statevector.from_label('00')\n",
    "\n",
    "sv_0.draw('latex')"
   ]
  },
  {
   "cell_type": "code",
   "execution_count": null,
   "id": "ea865a94",
   "metadata": {},
   "outputs": [],
   "source": [
    "init_state_sv = sv_0.evolve(unitary_transformation(qc10, display_latex=False))"
   ]
  },
  {
   "cell_type": "code",
   "execution_count": null,
   "id": "f3785718",
   "metadata": {},
   "outputs": [],
   "source": [
    "init_state_sv.draw('latex')"
   ]
  },
  {
   "cell_type": "markdown",
   "id": "e6bb1b43-969f-4d14-af04-34c332fbe5c4",
   "metadata": {},
   "source": [
    "### Rotation gates\n",
    "\n",
    "A rotation gate is a parameterized quantum gate designed to rotate a qubit at a specific angle, based on the value of its parameters. Such gates are fundamental in constructing non-deterministic algorithms, such as those used in quantum machine learning. The standard rotation gates include rotations around the three primary axes: $X$, $Y$, and $Z$. This capability allows for precise manipulation of qubits, essential for quantum computing applications."
   ]
  },
  {
   "cell_type": "code",
   "execution_count": null,
   "id": "f2904995-80cb-4849-856e-acce5d6b98d3",
   "metadata": {},
   "outputs": [],
   "source": [
    "rot_qc = QuantumCircuit(3)\n",
    "\n",
    "# Apply rotation around x-axis by pi/2 to the first qubit\n",
    "rot_qc.rx(np.pi/2, 0)\n",
    "# Apply rotation around y-axis by pi/2 to the second qubit\n",
    "rot_qc.ry(np.pi/2, 1)\n",
    "# Apply rotation around z-axis by pi/2 to the third qubit\n",
    "rot_qc.rz(np.pi/2, 2)\n",
    "\n",
    "rot_qc.draw('mpl')"
   ]
  },
  {
   "cell_type": "markdown",
   "id": "7d45fd9b-8560-4728-9379-22cd1c9e8312",
   "metadata": {},
   "source": [
    "Or a general unitary gate can be defined as:\n",
    "\n",
    "$$\n",
    "U(\\theta, \\phi, \\lambda)=\\left(\\begin{array}{cc}\n",
    "\\cos \\left(\\frac{\\theta}{2}\\right) & -e^{i \\lambda} \\sin \\left(\\frac{\\theta}{2}\\right) \\\\\n",
    "e^{i \\phi} \\sin \\left(\\frac{\\theta}{2}\\right) & e^{i(\\phi+\\lambda)} \\cos \\left(\\frac{\\theta}{2}\\right)\n",
    "\\end{array}\\right).\n",
    "$$"
   ]
  },
  {
   "cell_type": "code",
   "execution_count": null,
   "id": "b40f3e46-e1bf-4aec-884d-dfee56da8a89",
   "metadata": {},
   "outputs": [],
   "source": [
    "unitary_gate = QuantumCircuit(2)\n",
    "\n",
    "unitary_gate.u(np.pi/2, np.pi/4, np.pi/8, 0)\n",
    "\n",
    "unitary_gate.draw('mpl')"
   ]
  },
  {
   "cell_type": "markdown",
   "id": "43eefb80-5729-4f6e-a6d6-9effb670100a",
   "metadata": {},
   "source": [
    "We can invoke a Toffoli gate for a CNOT operation controlled by two qubits."
   ]
  },
  {
   "cell_type": "code",
   "execution_count": null,
   "id": "c6ba422b-544c-4954-997d-dfab3998859c",
   "metadata": {},
   "outputs": [],
   "source": [
    "tof_gate = QuantumCircuit(3)\n",
    "\n",
    "tof_gate.ccx(0, 1, 2, 3)\n",
    "\n",
    "tof_gate.draw('mpl')"
   ]
  },
  {
   "cell_type": "markdown",
   "id": "c28c0f83-a48d-44db-8b0d-94cdd62b2715",
   "metadata": {},
   "source": [
    "Or, alternatively, we could develop multi-controlled versions of single-qubit gates. Here is an example of a controlled-Hadamard gate which is controlled by three qubits."
   ]
  },
  {
   "cell_type": "code",
   "execution_count": null,
   "id": "d1e640a0-b3d0-4612-b0b5-ebea90782a20",
   "metadata": {},
   "outputs": [],
   "source": [
    "from qiskit.circuit.library import HGate\n",
    "\n",
    "ch = HGate().control(3)\n",
    "\n",
    "qc = QuantumCircuit(4)\n",
    "qc.append(ch, [0,2,3, 1])\n",
    "qc.draw('mpl')"
   ]
  },
  {
   "cell_type": "code",
   "execution_count": null,
   "id": "258fd68b-141a-48de-bda9-0557e970a14e",
   "metadata": {},
   "outputs": [],
   "source": []
  }
 ],
 "metadata": {
  "kernelspec": {
   "display_name": "Python 3 (ipykernel)",
   "language": "python",
   "name": "python3"
  },
  "language_info": {
   "codemirror_mode": {
    "name": "ipython",
    "version": 3
   },
   "file_extension": ".py",
   "mimetype": "text/x-python",
   "name": "python",
   "nbconvert_exporter": "python",
   "pygments_lexer": "ipython3",
   "version": "3.9.13"
  }
 },
 "nbformat": 4,
 "nbformat_minor": 5
}
